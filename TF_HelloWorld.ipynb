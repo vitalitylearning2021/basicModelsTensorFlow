{
  "nbformat": 4,
  "nbformat_minor": 0,
  "metadata": {
    "colab": {
      "name": "TF_HelloWorld.ipynb",
      "provenance": []
    },
    "kernelspec": {
      "name": "python3",
      "display_name": "Python 3"
    }
  },
  "cells": [
    {
      "cell_type": "code",
      "metadata": {
        "id": "tWVnfz9o7tVI",
        "colab_type": "code",
        "colab": {
          "base_uri": "https://localhost:8080/",
          "height": 72
        },
        "outputId": "a6aa695a-a3fb-4c66-d680-f1128f2e6307"
      },
      "source": [
        "import tensorflow as tf\n",
        "\n",
        "print(tf.__version__)\n",
        "\n",
        "message = tf.constant('Hello World')\n",
        "\n",
        "print(message)\n",
        "\n",
        "tf.print(message)"
      ],
      "execution_count": 1,
      "outputs": [
        {
          "output_type": "stream",
          "text": [
            "2.3.0\n",
            "tf.Tensor(b'Hello World', shape=(), dtype=string)\n",
            "Hello World\n"
          ],
          "name": "stdout"
        }
      ]
    }
  ]
}
