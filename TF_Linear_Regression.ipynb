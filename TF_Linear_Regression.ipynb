{
  "nbformat": 4,
  "nbformat_minor": 0,
  "metadata": {
    "kernelspec": {
      "name": "python3",
      "display_name": "Python 3"
    },
    "colab": {
      "name": "TF_Linear_Regression.ipynb",
      "provenance": []
    }
  },
  "cells": [
    {
      "cell_type": "code",
      "metadata": {
        "id": "9bIcpg7iyBZj",
        "colab_type": "code",
        "colab": {}
      },
      "source": [
        "import tensorflow as tf\n",
        "import numpy as np\n",
        "\n",
        "import matplotlib.pyplot as plt\n",
        "\n",
        "rng = np.random"
      ],
      "execution_count": 2,
      "outputs": []
    },
    {
      "cell_type": "code",
      "metadata": {
        "id": "bIsNHlziyBZl",
        "colab_type": "code",
        "colab": {}
      },
      "source": [
        "alpha     = 0.0001  # --- Learning rate\n",
        "numIter   = 1000    # --- Number of gradient descent iterations\n",
        "skipIter  = 50      # --- Number of iterations to skip for presenting the results"
      ],
      "execution_count": 3,
      "outputs": []
    },
    {
      "cell_type": "code",
      "metadata": {
        "id": "JI27LqASyBZn",
        "colab_type": "code",
        "colab": {}
      },
      "source": [
        "# --- Data\n",
        "X = np.array([20.1, 7.1, 16.1, 14.9, 16.7, 8.8, 9.7, 10.3, 22, 16.2, 12.1, 10.3, 14.5, 12.4, 9.6, 12.2, 10.8, 14.7, 19.7, 11.2,\t\n",
        "              10.1, 11, 12.2, 9.2, 23.5, 9.4, 15.3, 9.6, 11.1, 5.3, 7.8, 25.3, 16.5, 12.6, 12, 11.5, 17.1, 11.2, 12.2, 10.6, 19.9, \n",
        "              14.5, 15.5, 17.4, 8.4, 10.3, 0.2, 12.5, 16.7, 8.5, 12.2\t])\n",
        "Y = np.array([31.5, 18.9, 35, 31.6, 22.6, 26.2, 14.1, 24.7, 44.8, 23.2, 31.4, 17.7, 18.4, 23.4, 22.6, 16.4, 21.4, 26.5, 31.7, 11.9, \n",
        "              20, 12.5, 18, 14.2, 37.6, 22.2, 17.8, 18.3, 28, 8.1, 14.7, 37.8, 15.7, 28.6, 11.7, 20.1, 30.1, 18.2, 17.2, 19.6, 29.2, \n",
        "              17.3, 28.2, 38.2, 17.8, 10.4, 19, 16.8, 21.5, 15.9, 17.7\t])\n"
      ],
      "execution_count": 4,
      "outputs": []
    },
    {
      "cell_type": "code",
      "metadata": {
        "id": "pfhCoIV8yBZp",
        "colab_type": "code",
        "colab": {}
      },
      "source": [
        "# --- Random starting guess\n",
        "m = tf.Variable(rng.randn())\n",
        "b = tf.Variable(rng.randn())\n",
        "\n",
        "# --- Linear model function y = m * x + b\n",
        "def linearModel(x):\n",
        "    return m * x + b\n",
        "\n",
        "# --- Cost function\n",
        "def costFunction(y_model, y_data):\n",
        "    return tf.reduce_mean(tf.square(y_model - y_data))\n",
        "\n",
        "# --- Setting the Stochastic Gradient Descent Optimizer\n",
        "optimizer = tf.optimizers.SGD(alpha)"
      ],
      "execution_count": 5,
      "outputs": []
    },
    {
      "cell_type": "code",
      "metadata": {
        "id": "erwUhaIpyBZr",
        "colab_type": "code",
        "colab": {}
      },
      "source": [
        "# --- Optimization step\n",
        "def optimizationStep():\n",
        "    # --- Uses GradientTape for automatic differentiation\n",
        "    with tf.GradientTape() as g:\n",
        "        y_model           = linearModel(X)\n",
        "        costFunctionValue = costFunction(y_model, Y)\n",
        "\n",
        "    # --- Compute gradients\n",
        "    gradients = g.gradient(costFunctionValue, [m, b])\n",
        "    \n",
        "    # --- Update the unknowns m and b\n",
        "    optimizer.apply_gradients(zip(gradients, [m, b]))"
      ],
      "execution_count": 6,
      "outputs": []
    },
    {
      "cell_type": "code",
      "metadata": {
        "id": "sNMgx7FZyBZt",
        "colab_type": "code",
        "colab": {
          "base_uri": "https://localhost:8080/",
          "height": 381
        },
        "outputId": "37eb4ea4-ff9e-45f3-ff42-6ce2ec054057"
      },
      "source": [
        "# --- Iterations loop\n",
        "for iter in range(1, numIter + 1):\n",
        "\n",
        "    optimizationStep()\n",
        "    \n",
        "    if iter % skipIter == 0:\n",
        "        y_model           = linearModel(X)\n",
        "        costFunctionValue = costFunction(y_model, Y)\n",
        "        print(\"iteration number: %i, cost function: %f, m: %f, b: %f\" % (iter, costFunctionValue, m.numpy(), b.numpy()))"
      ],
      "execution_count": 7,
      "outputs": [
        {
          "output_type": "stream",
          "text": [
            "iteration number: 50, cost function: 68.225380, m: 1.224222, b: 0.530033\n",
            "iteration number: 100, cost function: 37.918400, m: 1.568746, b: 0.560625\n",
            "iteration number: 150, cost function: 37.264454, m: 1.618592, b: 0.570941\n",
            "iteration number: 200, cost function: 37.241322, m: 1.625460, b: 0.578292\n",
            "iteration number: 250, cost function: 37.231632, m: 1.626060, b: 0.585205\n",
            "iteration number: 300, cost function: 37.222248, m: 1.625746, b: 0.592047\n",
            "iteration number: 350, cost function: 37.212894, m: 1.625300, b: 0.598873\n",
            "iteration number: 400, cost function: 37.203560, m: 1.624834, b: 0.605689\n",
            "iteration number: 450, cost function: 37.194241, m: 1.624366, b: 0.612498\n",
            "iteration number: 500, cost function: 37.184944, m: 1.623899, b: 0.619299\n",
            "iteration number: 550, cost function: 37.175671, m: 1.623432, b: 0.626093\n",
            "iteration number: 600, cost function: 37.166420, m: 1.622965, b: 0.632879\n",
            "iteration number: 650, cost function: 37.157185, m: 1.622499, b: 0.639658\n",
            "iteration number: 700, cost function: 37.147972, m: 1.622034, b: 0.646429\n",
            "iteration number: 750, cost function: 37.138783, m: 1.621569, b: 0.653192\n",
            "iteration number: 800, cost function: 37.129608, m: 1.621104, b: 0.659948\n",
            "iteration number: 850, cost function: 37.120457, m: 1.620639, b: 0.666696\n",
            "iteration number: 900, cost function: 37.111324, m: 1.620174, b: 0.673437\n",
            "iteration number: 950, cost function: 37.102215, m: 1.619711, b: 0.680171\n",
            "iteration number: 1000, cost function: 37.093124, m: 1.619249, b: 0.686897\n"
          ],
          "name": "stdout"
        }
      ]
    },
    {
      "cell_type": "code",
      "metadata": {
        "id": "qYO7CN42yBZx",
        "colab_type": "code",
        "colab": {
          "base_uri": "https://localhost:8080/",
          "height": 279
        },
        "outputId": "6553e729-4b6d-4e1c-9363-2a1749e1e24a"
      },
      "source": [
        "# --- Display results\n",
        "plt.plot(X, Y, 'ro', label = 'Observations')\n",
        "#plt.plot(X, np.array(m * X + b), label = 'Fitting')\n",
        "plt.xlabel('Poverty level')\n",
        "plt.ylabel('Birth rate')\n",
        "plt.legend()\n",
        "plt.show()"
      ],
      "execution_count": 11,
      "outputs": [
        {
          "output_type": "display_data",
          "data": {
            "image/png": "[encoded data removed]",
            "text/plain": [
              "<Figure size 432x288 with 1 Axes>"
            ]
          },
          "metadata": {
            "tags": [],
            "needs_background": "light"
          }
        }
      ]
    }
  ]
}
