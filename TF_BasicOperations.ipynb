{
  "nbformat": 4,
  "nbformat_minor": 0,
  "metadata": {
    "colab": {
      "name": "TF_BasicOperations.ipynb",
      "provenance": []
    },
    "kernelspec": {
      "name": "python3",
      "display_name": "Python 3"
    },
    "language_info": {
      "name": "python"
    },
    "accelerator": "GPU"
  },
  "cells": [
    {
      "cell_type": "code",
      "metadata": {
        "id": "6ahE8d8GYdRh"
      },
      "source": [
        "#from __future__ import print_function\n",
        "import tensorflow as tf"
      ],
      "execution_count": null,
      "outputs": []
    },
    {
      "cell_type": "code",
      "metadata": {
        "id": "bOoXoyWcv8Cx",
        "colab": {
          "base_uri": "https://localhost:8080/"
        },
        "outputId": "f39b4463-ab98-4439-fa62-fbf5c959893b"
      },
      "source": [
        "# --- 1d constant tensors\n",
        "instruments       = tf.constant([\"Violin\", \"Piano\"], tf.string)\n",
        "rationalNumbers   = tf.constant([1.223, 2.131, -10.43], tf.float32)\n",
        "\n",
        "print(\"`instruments` is a {}-d Tensor with shape: {}\".format(tf.rank(instruments).numpy(), tf.shape(instruments)))\n",
        "print(\"`rationalNumbers` is a {}-d Tensor with shape: {}\".format(tf.rank(rationalNumbers).numpy(), tf.shape(rationalNumbers)))"
      ],
      "execution_count": null,
      "outputs": [
        {
          "output_type": "stream",
          "name": "stdout",
          "text": [
            "`instruments` is a 1-d Tensor with shape: [2]\n",
            "`rationalNumbers` is a 1-d Tensor with shape: [3]\n"
          ]
        }
      ]
    },
    {
      "cell_type": "code",
      "metadata": {
        "id": "gEmnXqy1C9_S"
      },
      "source": [
        "# --- N-dimensional constant tensors\n",
        "images = tf.constant(tf.zeros((3, 128, 128, 16), tf.float64, \"4d constant tensor definition\"))\n",
        "\n",
        "assert isinstance(images, tf.Tensor), \"Matrix must be a TensorFlow tensor object\"\n",
        "assert tf.rank(images).numpy() == 4, \"Matrix must be of rank 4\"\n",
        "assert tf.shape(images).numpy().tolist() == [3, 128, 128, 16], \"Matrix has incorrect shape\""
      ],
      "execution_count": null,
      "outputs": []
    },
    {
      "cell_type": "code",
      "metadata": {
        "colab": {
          "base_uri": "https://localhost:8080/"
        },
        "id": "RqpOD25ixV__",
        "outputId": "8a513ac0-17de-4b5a-e507-7ead4e0b5aeb"
      },
      "source": [
        "threeDimensionalList = [[[0, 1, 2], \n",
        "                         [3, 4, 5]], \n",
        "                        [[6, 7, 8], \n",
        "                         [9, 10, 11]]]\n",
        "rank3Tensor = tf.constant(threeDimensionalList)\n",
        "print(rank3Tensor)\n",
        "print(\"The number tensor dimensions is\", rank3Tensor.ndim)\n",
        "print(\"The tensor shape is\", rank3Tensor.shape)\n",
        "print(\"The tensor data type is\", rank3Tensor.dtype)\n",
        "print(\"The tensor size is\", tf.size(rank3Tensor).numpy())"
      ],
      "execution_count": null,
      "outputs": [
        {
          "output_type": "stream",
          "name": "stdout",
          "text": [
            "tf.Tensor(\n",
            "[[[ 0  1  2]\n",
            "  [ 3  4  5]]\n",
            "\n",
            " [[ 6  7  8]\n",
            "  [ 9 10 11]]], shape=(2, 2, 3), dtype=int32)\n",
            "The number tensor dimensions is 3\n",
            "The tensor shape is (2, 2, 3)\n",
            "The tensor data type is <dtype: 'int32'>\n",
            "The tensor size is 12\n"
          ]
        }
      ]
    },
    {
      "cell_type": "code",
      "metadata": {
        "colab": {
          "base_uri": "https://localhost:8080/"
        },
        "id": "wyoOEm34Bjua",
        "outputId": "5e73c357-c683-484c-878f-2e8ebdf83af4"
      },
      "source": [
        "# --- Indexing\n",
        "aList = [0, 1, 2, 3, 4, 5, 6, 7, 8, 9, 10, 11]\n",
        "aTensor = tf.constant(aList)\n",
        "\n",
        "print(\"The first element is:\", aTensor[0].numpy())\n",
        "print(\"The last element is:\", aTensor[-1].numpy())\n",
        "print(\"Elements in between the first and the last:\", aTensor[1 : -1].numpy())"
      ],
      "execution_count": null,
      "outputs": [
        {
          "output_type": "stream",
          "name": "stdout",
          "text": [
            "The first element is: 0\n",
            "The last element is: 11\n",
            "Elements in between the first and the last: [ 1  2  3  4  5  6  7  8  9 10]\n"
          ]
        }
      ]
    },
    {
      "cell_type": "code",
      "metadata": {
        "colab": {
          "base_uri": "https://localhost:8080/"
        },
        "id": "42PW6BXrFqKE",
        "outputId": "a5225f21-ac20-4be4-cdcd-c63f50a0412a"
      },
      "source": [
        "# --- Basic operations\n",
        "a = tf.constant([[3, 2], [-10, 7]], dtype=tf.float32)\n",
        "b = tf.constant([[0, 2], [  6, 1]], dtype=tf.float32)\n",
        "\n",
        "addingTensors         = tf.add(a, b)\n",
        "multiplyingTensors    = tf.multiply(a, b)\n",
        "matrixMultiplication  = tf.matmul(a, b)\n",
        "tf.print(addingTensors)\n",
        "tf.print(multiplyingTensors)\n",
        "tf.print(matrixMultiplication)\n",
        "\n",
        "print(\"The maximum value of b is:\", tf.reduce_max(b).numpy())\n",
        "print(\"The index position of the maximum element of b is:\", tf.argmax(b).numpy())"
      ],
      "execution_count": null,
      "outputs": [
        {
          "output_type": "stream",
          "name": "stdout",
          "text": [
            "[[3 4]\n",
            " [-4 8]]\n",
            "[[0 4]\n",
            " [-60 7]]\n",
            "[[12 8]\n",
            " [42 -13]]\n",
            "The maximum value of b is: 6.0\n",
            "The index position of the maximum element of b is: [1 0]\n"
          ]
        }
      ]
    },
    {
      "cell_type": "code",
      "metadata": {
        "id": "QzD4jxWAJaMj",
        "colab": {
          "base_uri": "https://localhost:8080/"
        },
        "outputId": "f02358b0-5ab7-425f-f44a-27161f16276d"
      },
      "source": [
        "a = tf.constant([[1, 2, 3, 4, 5, 6]])\n",
        "print('Initial shape:', a.shape)\n",
        "\n",
        "b = tf.reshape(a, [6, 1])\n",
        "print('First reshaping:', b.shape)\n",
        "\n",
        "c = tf.reshape(a, [3, 2])\n",
        "print('Second reshaping:', c.shape)\n",
        "\n",
        "# --- Flattening\n",
        "print('Flattening:', tf.reshape(a, [-1]))"
      ],
      "execution_count": null,
      "outputs": [
        {
          "output_type": "stream",
          "name": "stdout",
          "text": [
            "Initial shape: (1, 6)\n",
            "First reshaping: (6, 1)\n",
            "Second reshaping: (3, 2)\n",
            "Flattening: tf.Tensor([1 2 3 4 5 6], shape=(6,), dtype=int32)\n"
          ]
        }
      ]
    },
    {
      "cell_type": "code",
      "metadata": {
        "colab": {
          "base_uri": "https://localhost:8080/"
        },
        "id": "nwDaX0eBXxG1",
        "outputId": "62920201-0cd7-4d71-b6be-fedb5e232dfd"
      },
      "source": [
        "# --- Operator overload\n",
        "m = tf.constant([5])\n",
        "\n",
        "n = tf.constant([[1, 2], [3, 4]])\n",
        "\n",
        "tf.print(tf.multiply(m, n))"
      ],
      "execution_count": null,
      "outputs": [
        {
          "output_type": "stream",
          "name": "stdout",
          "text": [
            "[[5 10]\n",
            " [15 20]]\n"
          ]
        }
      ]
    },
    {
      "cell_type": "code",
      "metadata": {
        "colab": {
          "base_uri": "https://localhost:8080/"
        },
        "id": "YPc7QLdRZ3jg",
        "outputId": "c02f674d-0b41-4b46-bd17-da34e44242dc"
      },
      "source": [
        "# --- Ragged tensors\n",
        "raggedList = [[1, 2, 3], [4, 5], [6]]\n",
        "\n",
        "raggedTensor = tf.ragged.constant(raggedList)\n",
        "\n",
        "tf.print(raggedTensor)"
      ],
      "execution_count": null,
      "outputs": [
        {
          "output_type": "stream",
          "name": "stdout",
          "text": [
            "[[1, 2, 3], [4, 5], [6]]\n"
          ]
        }
      ]
    },
    {
      "cell_type": "code",
      "metadata": {
        "colab": {
          "base_uri": "https://localhost:8080/"
        },
        "id": "KTAhy7L0a0c1",
        "outputId": "95b893bb-272f-4eb3-db40-f3e92e6d9968"
      },
      "source": [
        "# --- String tensors\n",
        "stringTensor = tf.constant([\"I like\", \n",
        "                            \"TensorFlow\", \n",
        "                            \"very much\"])\n",
        "\n",
        "tf.print(stringTensor)"
      ],
      "execution_count": null,
      "outputs": [
        {
          "output_type": "stream",
          "name": "stdout",
          "text": [
            "[\"I like\" \"TensorFlow\" \"very much\"]\n"
          ]
        }
      ]
    },
    {
      "cell_type": "code",
      "metadata": {
        "colab": {
          "base_uri": "https://localhost:8080/"
        },
        "id": "OgK6CM7VcpDl",
        "outputId": "ce7b02fc-4f7f-4e85-bc5f-3e95db20d37b"
      },
      "source": [
        "# --- Sparse tensors\n",
        "sparseTensor = tf.sparse.SparseTensor(indices      = [[0, 0], [2, 2], [4, 4]], \n",
        "                                      values       = [25, 50, 100], \n",
        "                                      dense_shape  = [5, 5])\n",
        "\n",
        "tf.print(sparseTensor)\n",
        "tf.print(tf.sparse.to_dense(sparseTensor))"
      ],
      "execution_count": null,
      "outputs": [
        {
          "output_type": "stream",
          "name": "stdout",
          "text": [
            "'SparseTensor(indices=[[0 0]\n",
            " [2 2]\n",
            " [4 4]], values=[25 50 100], shape=[5 5])'\n",
            "[[25 0 0 0 0]\n",
            " [0 0 0 0 0]\n",
            " [0 0 50 0 0]\n",
            " [0 0 0 0 0]\n",
            " [0 0 0 0 100]]\n"
          ]
        }
      ]
    },
    {
      "cell_type": "code",
      "metadata": {
        "colab": {
          "base_uri": "https://localhost:8080/"
        },
        "id": "Ux3KZHoYTDZ6",
        "outputId": "12c4a240-c000-4f45-c9e0-fe73a4d8f32b"
      },
      "source": [
        "constantA = tf.constant([[0.0, 1.0],\n",
        "                         [2.0, 3.0]])\n",
        "variableA = tf.Variable(constantA, name = \"variableAName\")\n",
        "tf.print(variableA)\n",
        "\n",
        "variableB = tf.Variable(1000)\n",
        "tf.print(variableB)\n",
        "\n",
        "listC = [[0.0, 1.0],\n",
        "         [2.0, 3.0]]\n",
        "variableC = tf.Variable(listC)\n",
        "tf.print(variableC)\n",
        "\n",
        "variableD = tf.Variable(\"Sample string\")\n",
        "tf.print(variableD)\n",
        "\n",
        "stringListE = [\"I like\", \"TensorFlow\", \"very much\"]\n",
        "variableE   = tf.Variable(stringListE)\n",
        "tf.print(variableE)"
      ],
      "execution_count": null,
      "outputs": [
        {
          "output_type": "stream",
          "name": "stdout",
          "text": [
            "[[0 1]\n",
            " [2 3]]\n",
            "1000\n",
            "[[0 1]\n",
            " [2 3]]\n",
            "Sample string\n",
            "[\"I like\" \"TensorFlow\" \"very much\"]\n"
          ]
        }
      ]
    },
    {
      "cell_type": "code",
      "metadata": {
        "colab": {
          "base_uri": "https://localhost:8080/"
        },
        "id": "fK7XLNJbVVnb",
        "outputId": "c841603e-ada0-47dd-fcb9-69969ac36e47"
      },
      "source": [
        "print(\"Values stored in variableA: \\n\", variableA.value())\n",
        "print(\"Values stored in variableA: \\n\", variableA.numpy())\n",
        "tf.print(\"Values stored in variableA: \\n\", variableA.value())\n",
        "\n",
        "print(\"Variable name: \", variableA.name)\n",
        "\n",
        "print(\"Datatype of variableA: \", variableA.dtype)\n",
        "\n",
        "print(\"Shape of variableA: \", variableA.shape)\n",
        "\n",
        "print(\"Number of dimensions of variableA:\", tf.rank(variableA).numpy())\n",
        "\n",
        "print(\"Number of elements of variableA:\", tf.size(variableA).numpy())"
      ],
      "execution_count": null,
      "outputs": [
        {
          "output_type": "stream",
          "name": "stdout",
          "text": [
            "Values stored in variableA: \n",
            " tf.Tensor(\n",
            "[[0. 1.]\n",
            " [2. 3.]], shape=(2, 2), dtype=float32)\n",
            "Values stored in variableA: \n",
            " [[0. 1.]\n",
            " [2. 3.]]\n",
            "Values stored in variableA: \n",
            " [[0 1]\n",
            " [2 3]]\n",
            "Variable name:  variableAName:0\n",
            "Datatype of variableA:  <dtype: 'float32'>\n",
            "Shape of variableA:  (2, 2)\n",
            "Number of dimensions of variableA: 2\n",
            "Number of elements of variableA: 4\n"
          ]
        }
      ]
    },
    {
      "cell_type": "code",
      "metadata": {
        "colab": {
          "base_uri": "https://localhost:8080/"
        },
        "id": "lyzn88XvZGNz",
        "outputId": "35a47ae8-ec2a-43bf-a667-bc84ff435815"
      },
      "source": [
        "a = tf.Variable([[1.0, 2.0], [3.0, 4.0]])\n",
        "\n",
        "tf.print(\"Addition by 2:\\n\", a + 2)\n",
        "tf.print(\"Substraction by 2:\\n\", a - 2)\n",
        "tf.print(\"Multiplication by 2:\\n\", a * 2)\n",
        "tf.print(\"Division by 2:\\n\", a / 2)\n",
        "tf.print(\"Matmul operation with itself:\\n\", a @ a)\n",
        "tf.print(\"Modulo operation by 2:\\n\", a % 2)\n",
        "\n",
        "a.assign(([[3, 20], [-2, 110]]))\n",
        "tf.print(a)\n",
        "\n",
        "print(\"The 1st element of the first level is:\", a[0].numpy())\n",
        "print(\"The 2nd element of the first level is:\", a[1].numpy())\n",
        "print(\"The 1st element of the second level is:\", a[0, 0].numpy())\n",
        "print(\"The 3rd element of the second level is:\", a[0, 1].numpy())"
      ],
      "execution_count": null,
      "outputs": [
        {
          "output_type": "stream",
          "name": "stdout",
          "text": [
            "Addition by 2:\n",
            " [[3 4]\n",
            " [5 6]]\n",
            "Substraction by 2:\n",
            " [[-1 0]\n",
            " [1 2]]\n",
            "Multiplication by 2:\n",
            " [[2 4]\n",
            " [6 8]]\n",
            "Division by 2:\n",
            " [[0.5 1]\n",
            " [1.5 2]]\n",
            "Matmul operation with itself:\n",
            " [[7 10]\n",
            " [15 22]]\n",
            "Modulo operation by 2:\n",
            " [[1 0]\n",
            " [1 0]]\n",
            "[[3 20]\n",
            " [-2 110]]\n",
            "The 1st element of the first level is: [ 3. 20.]\n",
            "The 2nd element of the first level is: [ -2. 110.]\n",
            "The 1st element of the second level is: 3.0\n",
            "The 3rd element of the second level is: 20.0\n"
          ]
        }
      ]
    },
    {
      "cell_type": "code",
      "metadata": {
        "colab": {
          "base_uri": "https://localhost:8080/"
        },
        "id": "U1A9ifXObuBk",
        "outputId": "4446b45b-16a9-4e64-dd2e-e96025c04707"
      },
      "source": [
        "b = tf.Variable([5])\n",
        "c = tf.Variable([[1, 2], [3, 4]])\n",
        "tf.print(b * c)"
      ],
      "execution_count": null,
      "outputs": [
        {
          "output_type": "stream",
          "name": "stdout",
          "text": [
            "[[5 10]\n",
            " [15 20]]\n"
          ]
        }
      ]
    },
    {
      "cell_type": "code",
      "metadata": {
        "colab": {
          "base_uri": "https://localhost:8080/"
        },
        "id": "xpwlTnw4nUby",
        "outputId": "68b7d428-f608-4ec2-8f54-17e22155074b"
      },
      "source": [
        "a = tf.Variable([[1.0, 2.0], [1.0, 2.0]])\n",
        "\n",
        "tf.print(tf.reshape(a, (4, 1)))"
      ],
      "execution_count": null,
      "outputs": [
        {
          "output_type": "stream",
          "name": "stdout",
          "text": [
            "[[1]\n",
            " [2]\n",
            " [1]\n",
            " [2]]\n"
          ]
        }
      ]
    },
    {
      "cell_type": "code",
      "metadata": {
        "colab": {
          "base_uri": "https://localhost:8080/"
        },
        "id": "-ctoSbQfdPg0",
        "outputId": "181a1a6d-9a52-4539-9460-1c6a163e9b68"
      },
      "source": [
        "print(\"Device processing variable a:\\n\", a.device)\n",
        "\n",
        "with tf.device('CPU:0'):\n",
        "  a = tf.Variable([[1.0, 2.0, 3.0], [4.0, 5.0, 6.0]])\n",
        "  b = tf.Variable([[1.0, 2.0, 3.0]])\n",
        "  print(\"Device processing variable a:\\n\", a.device)\n",
        "  print(\"Device processing variable b:\\n\", b.device)\n",
        "\n",
        "with tf.device('GPU:0'):\n",
        "  # Element-wise multiply\n",
        "  k = a * b\n",
        "  print(\"Device processing the calculation:\\n\", k.device)"
      ],
      "execution_count": null,
      "outputs": [
        {
          "output_type": "stream",
          "name": "stdout",
          "text": [
            "Device processing variable a:\n",
            " /job:localhost/replica:0/task:0/device:GPU:0\n",
            "Device processing variable a:\n",
            " /job:localhost/replica:0/task:0/device:CPU:0\n",
            "Device processing variable b:\n",
            " /job:localhost/replica:0/task:0/device:CPU:0\n",
            "Device processing the calculation:\n",
            " /job:localhost/replica:0/task:0/device:GPU:0\n"
          ]
        }
      ]
    },
    {
      "cell_type": "code",
      "metadata": {
        "id": "2lP9EEGnr2RB"
      },
      "source": [
        "tf.print(rationalNumbers)\n",
        "rationalNumbers = tf.add(rationalNumbers, rationalNumbers)\n",
        "tf.print(rationalNumbers)"
      ],
      "execution_count": null,
      "outputs": []
    },
    {
      "cell_type": "code",
      "metadata": {
        "id": "Gj9ww1VSYlya",
        "colab": {
          "base_uri": "https://localhost:8080/"
        },
        "outputId": "f0e5a451-caad-4d01-cb2d-9eb79e046202"
      },
      "source": [
        "a = tf.constant(2)\n",
        "a = a + 1\n",
        "\n",
        "tf.print(a)"
      ],
      "execution_count": null,
      "outputs": [
        {
          "output_type": "stream",
          "name": "stdout",
          "text": [
            "3\n"
          ]
        }
      ]
    }
  ]
}